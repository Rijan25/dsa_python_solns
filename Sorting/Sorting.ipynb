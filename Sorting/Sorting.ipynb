{
  "nbformat": 4,
  "nbformat_minor": 0,
  "metadata": {
    "colab": {
      "provenance": []
    },
    "kernelspec": {
      "name": "python3",
      "display_name": "Python 3"
    },
    "language_info": {
      "name": "python"
    }
  },
  "cells": [
    {
      "cell_type": "code",
      "execution_count": null,
      "metadata": {
        "id": "yzYE66Nn41kW"
      },
      "outputs": [],
      "source": [
        "# Sorting (Selection Sort)"
      ]
    },
    {
      "cell_type": "code",
      "source": [
        "\n",
        "def selection_sort(a):\n",
        "  for i in range(len(a)):\n",
        "    min=i\n",
        "    for j in range(i+1,len(a)):\n",
        "       if(a[min]>a[j]):\n",
        "         a[min],a[j]=a[j],a[min]\n"
      ],
      "metadata": {
        "id": "ww_ULQt844PE"
      },
      "execution_count": null,
      "outputs": []
    },
    {
      "cell_type": "code",
      "source": [
        "a=[5,8,5,8,4,0,3,1]\n",
        "selection_sort(a)\n",
        "a"
      ],
      "metadata": {
        "colab": {
          "base_uri": "https://localhost:8080/"
        },
        "id": "PA1HRCKe44R7",
        "outputId": "05801682-ea88-42c6-df18-b6e3f0fc1947"
      },
      "execution_count": null,
      "outputs": [
        {
          "output_type": "execute_result",
          "data": {
            "text/plain": [
              "[0, 1, 3, 4, 5, 5, 8, 8]"
            ]
          },
          "metadata": {},
          "execution_count": 65
        }
      ]
    },
    {
      "cell_type": "code",
      "source": [
        "#Bubble Sort"
      ],
      "metadata": {
        "id": "2bkwOFS544Xa"
      },
      "execution_count": null,
      "outputs": []
    },
    {
      "cell_type": "code",
      "source": [
        "def bubble_sort(a):\n",
        "  for i in range(len(a)):\n",
        "    swapped=False\n",
        "    for j in range(len(a)-i-1):\n",
        "      if(a[j]>a[j+1]):\n",
        "        a[j],a[j+1]=a[j+1],a[j]\n",
        "        swapped=True\n",
        "    if not swapped:\n",
        "      break"
      ],
      "metadata": {
        "id": "wScFZ9oy44dJ"
      },
      "execution_count": null,
      "outputs": []
    },
    {
      "cell_type": "code",
      "source": [
        "b=[54,64,2,3,4,2,4,5]\n",
        "bubble_sort(b)\n",
        "b"
      ],
      "metadata": {
        "colab": {
          "base_uri": "https://localhost:8080/"
        },
        "id": "qv6GoyJg44f8",
        "outputId": "6540e21f-7108-4e2b-a6d4-fc064584ed95"
      },
      "execution_count": null,
      "outputs": [
        {
          "output_type": "execute_result",
          "data": {
            "text/plain": [
              "[2, 2, 3, 4, 4, 5, 54, 64]"
            ]
          },
          "metadata": {},
          "execution_count": 87
        }
      ]
    },
    {
      "cell_type": "markdown",
      "source": [],
      "metadata": {
        "id": "UbN6hsgJEIpb"
      }
    },
    {
      "cell_type": "code",
      "source": [
        "#Insertion Sort"
      ],
      "metadata": {
        "id": "wpXr2iex44io"
      },
      "execution_count": null,
      "outputs": []
    },
    {
      "cell_type": "code",
      "source": [
        "def insertion_sort(arr):\n",
        "  for i in range(len(arr)):\n",
        "    j=i\n",
        "    while(j>0  and arr[j-1]>arr[j]):\n",
        "      arr[j],arr[j-1]=arr[j-1],arr[j]\n",
        "      j-=1\n",
        "\n"
      ],
      "metadata": {
        "id": "HK8NHxZS44lk"
      },
      "execution_count": null,
      "outputs": []
    },
    {
      "cell_type": "code",
      "source": [
        "arr=[5,7,4,3,2,1]"
      ],
      "metadata": {
        "id": "vHls4jFo44oX"
      },
      "execution_count": null,
      "outputs": []
    },
    {
      "cell_type": "code",
      "source": [
        "insertion_sort(arr)"
      ],
      "metadata": {
        "id": "VPKe6WNM44rf"
      },
      "execution_count": null,
      "outputs": []
    },
    {
      "cell_type": "code",
      "source": [
        "arr"
      ],
      "metadata": {
        "id": "zzFA_uga44uJ",
        "colab": {
          "base_uri": "https://localhost:8080/"
        },
        "outputId": "aaf484e8-0e0b-4499-debf-cd587c1cd0a7"
      },
      "execution_count": null,
      "outputs": [
        {
          "output_type": "execute_result",
          "data": {
            "text/plain": [
              "[1, 2, 3, 4, 5, 7]"
            ]
          },
          "metadata": {},
          "execution_count": 22
        }
      ]
    },
    {
      "cell_type": "code",
      "source": [
        "# Merge Sort(Divide And merge)"
      ],
      "metadata": {
        "id": "bDkCR5Li44xO"
      },
      "execution_count": null,
      "outputs": []
    },
    {
      "cell_type": "code",
      "source": [
        "def merge_sort(arr,low,high):\n",
        "  if(low>=high):\n",
        "    return\n",
        "  mid=(high+low)//2\n",
        "  merge_sort(arr,low,mid)\n",
        "  merge_sort(arr,mid+1,high)\n",
        "  merge(arr,low,mid,high)\n",
        "\n",
        "def merge(arr,low,mid,high):\n",
        "  temp=[]\n",
        "  left=low\n",
        "  right=mid+1\n",
        "  while(left<=mid and right<=high):\n",
        "    if(arr[left]<=arr[right]):\n",
        "      temp.append(arr[left])\n",
        "      left+=1\n",
        "    else:\n",
        "      temp.append(arr[right])\n",
        "      right+=1\n",
        "  while(left<=mid):\n",
        "    temp.append(arr[left])\n",
        "    left+=1\n",
        "  while(right<=high):\n",
        "    temp.append(arr[right])\n",
        "    right+=1\n",
        "  for i in range(low, high + 1):\n",
        "        arr[i] = temp[i-low]\n",
        "\n",
        "\n"
      ],
      "metadata": {
        "id": "zfXmI5eo440I"
      },
      "execution_count": 69,
      "outputs": []
    },
    {
      "cell_type": "code",
      "source": [
        "arr=[5,4,3,2,1,0]\n",
        "merge_sort(arr,0,len(arr)-1)\n",
        "arr"
      ],
      "metadata": {
        "id": "VlQ2oisq443R",
        "colab": {
          "base_uri": "https://localhost:8080/"
        },
        "outputId": "299086cc-cd9f-478e-cd49-ec401abc8c4c"
      },
      "execution_count": 71,
      "outputs": [
        {
          "output_type": "execute_result",
          "data": {
            "text/plain": [
              "[0, 1, 2, 3, 4, 5]"
            ]
          },
          "metadata": {},
          "execution_count": 71
        }
      ]
    },
    {
      "cell_type": "code",
      "source": [
        "#Quick Sort"
      ],
      "metadata": {
        "id": "Xp7GIO1Jzfpf"
      },
      "execution_count": null,
      "outputs": []
    },
    {
      "cell_type": "code",
      "source": [
        "def quick_sort(arr,low,high):\n",
        "  if(low<=high):\n",
        "    part=partion(arr,low,high)\n",
        "    quick_sort(arr,low,part-1)\n",
        "    quick_sort(arr,part+1,high)\n",
        "\n",
        "def partion(arr,low,high):\n",
        "  pivot=arr[low]\n",
        "  i=low\n",
        "  j=high\n",
        "  while(i<j):\n",
        "    while(arr[i]<=pivot and i<=high-1):\n",
        "      i+=1\n",
        "\n",
        "    while(arr[j]>pivot and j>=low+1):\n",
        "      j-=1\n",
        "    if(i<j):\n",
        "      arr[i],arr[j]=arr[j],arr[i]\n",
        "  arr[low],arr[j]=arr[j],arr[low]\n",
        "  return j"
      ],
      "metadata": {
        "id": "VVJ6JbCt45C5"
      },
      "execution_count": 25,
      "outputs": []
    },
    {
      "cell_type": "code",
      "source": [
        "arr=[5,4,3,2,1,0]"
      ],
      "metadata": {
        "id": "tQSpyhtesLA5"
      },
      "execution_count": 26,
      "outputs": []
    },
    {
      "cell_type": "code",
      "source": [
        "quick_sort(arr,0,len(arr)-1)"
      ],
      "metadata": {
        "id": "kKdWy6MQsLQk"
      },
      "execution_count": 27,
      "outputs": []
    },
    {
      "cell_type": "code",
      "source": [
        "arr"
      ],
      "metadata": {
        "colab": {
          "base_uri": "https://localhost:8080/"
        },
        "id": "3JAnxmVAtsog",
        "outputId": "5250e656-d0c2-4059-93ba-17be9864c327"
      },
      "execution_count": 28,
      "outputs": [
        {
          "output_type": "execute_result",
          "data": {
            "text/plain": [
              "[0, 1, 2, 3, 4, 5]"
            ]
          },
          "metadata": {},
          "execution_count": 28
        }
      ]
    },
    {
      "cell_type": "code",
      "source": [
        "# Self Practise"
      ],
      "metadata": {
        "id": "JrcopD8045GP"
      },
      "execution_count": null,
      "outputs": []
    },
    {
      "cell_type": "code",
      "source": [
        "# Selection Sort\n",
        "\n",
        "# def select(arr):\n",
        "#   for i in range(len(arr)):\n",
        "#     min=i\n",
        "#     for j in range(i+1,len(arr)):\n",
        "#       if(arr[min]>arr[j]):\n",
        "#         min=j\n",
        "#         arr[i],arr[min]=arr[min],arr[i]\n",
        "\n",
        "#  Bubble Sort\n",
        "\n",
        "# def bubble(arr):\n",
        "#   for i in range(len(arr)):\n",
        "#     swapped=False\n",
        "#     for j in range(len(arr)-i-1):\n",
        "#       if(arr[j]>arr[j+1]):\n",
        "#         arr[j],arr[j+1]=arr[j+1],arr[j]\n",
        "#         swapped=True\n",
        "#     if(not swapped):\n",
        "#       break\n",
        "\n",
        "# Insertion Sort\n",
        "\n",
        "# def insert(arr):\n",
        "#   for i in range(len(arr)):\n",
        "#     j=i\n",
        "#     while(j>0 and arr[j-1]>arr[j]):\n",
        "#       arr[j],arr[j-1]=arr[j-1],arr[j]\n",
        "#       j-=1\n",
        "\n",
        "# Merge Sort\n",
        "\n",
        "\n",
        "\n",
        "# def merge_sort(arr,low,high):\n",
        "#   if(low>=high):\n",
        "#     return\n",
        "#   mid=(high+low)//2\n",
        "#   merge_sort(arr,low,mid)\n",
        "#   merge_sort(arr,mid+1,high)\n",
        "#   merge(arr,low,mid,high)\n",
        "\n",
        "# def merge(arr,low,mid,high):\n",
        "#   temp=[]\n",
        "#   left=low\n",
        "#   right=mid+1\n",
        "#   while(left<=mid and right<=high):\n",
        "#     if(arr[left]<=arr[right]):\n",
        "#       temp.append(arr[left])\n",
        "#       left+=1\n",
        "#     else:\n",
        "#       temp.append(arr[right])\n",
        "#       right+=1\n",
        "#   while(left<=mid):\n",
        "#     temp.append(arr[left])\n",
        "#     left+=1\n",
        "#   while(right<=high):\n",
        "#     temp.append(arr[right])\n",
        "#     right+=1\n",
        "#   for i in range(low, high + 1):\n",
        "#         arr[i] = temp[i-low]\n",
        "\n",
        "\n",
        "# def merge(arr,low,high):\n",
        "#   if(low>=high):\n",
        "#     return\n",
        "#   mid=(low+high)//2\n",
        "#   merge(arr,low,mid)\n",
        "#   merge(arr,mid+1,high)\n",
        "#   merge_sort(arr,low,mid,high)\n",
        "\n",
        "# def merge_sort(arr,low,mid,high):\n",
        "#   temp=[]\n",
        "#   left=low\n",
        "#   right=mid+1\n",
        "#   while(left<=mid and right<=high):\n",
        "#     if(arr[left]<=arr[right]):\n",
        "#       temp.append(arr[left])\n",
        "#       left+=1\n",
        "#     else:\n",
        "#       temp.append(arr[right])\n",
        "#       right+=1\n",
        "#   while(left<=mid):\n",
        "#     temp.append(arr[left])\n",
        "#     left+=1\n",
        "#   while(right<=high):\n",
        "#     temp.append(arr[right])\n",
        "#     right+=1\n",
        "#   for i in range(low,high+1):\n",
        "#     arr[i]=temp[i-low]\n",
        "\n",
        "\n",
        "\n"
      ],
      "metadata": {
        "id": "hsW8pwV245Is"
      },
      "execution_count": 76,
      "outputs": []
    },
    {
      "cell_type": "code",
      "source": [],
      "metadata": {
        "id": "yLGDIDQE45Ub"
      },
      "execution_count": null,
      "outputs": []
    },
    {
      "cell_type": "code",
      "source": [],
      "metadata": {
        "id": "_fSF_C1s45XY"
      },
      "execution_count": null,
      "outputs": []
    },
    {
      "cell_type": "code",
      "source": [],
      "metadata": {
        "id": "7j50l3Gp45aQ"
      },
      "execution_count": null,
      "outputs": []
    },
    {
      "cell_type": "code",
      "source": [],
      "metadata": {
        "id": "OBrd-Rka45dM"
      },
      "execution_count": null,
      "outputs": []
    },
    {
      "cell_type": "code",
      "source": [],
      "metadata": {
        "id": "-KSCNgvi45gQ"
      },
      "execution_count": null,
      "outputs": []
    },
    {
      "cell_type": "code",
      "source": [],
      "metadata": {
        "id": "hMLzlkYJ45jV"
      },
      "execution_count": null,
      "outputs": []
    },
    {
      "cell_type": "code",
      "source": [],
      "metadata": {
        "id": "BzGt47R545mM"
      },
      "execution_count": null,
      "outputs": []
    },
    {
      "cell_type": "code",
      "source": [],
      "metadata": {
        "id": "UX0M3Ur645pQ"
      },
      "execution_count": null,
      "outputs": []
    },
    {
      "cell_type": "code",
      "source": [],
      "metadata": {
        "id": "Htv3_7MT45sJ"
      },
      "execution_count": null,
      "outputs": []
    },
    {
      "cell_type": "code",
      "source": [],
      "metadata": {
        "id": "cNy1VbsA45vO"
      },
      "execution_count": null,
      "outputs": []
    },
    {
      "cell_type": "code",
      "source": [],
      "metadata": {
        "id": "WPCB_2FK45yA"
      },
      "execution_count": null,
      "outputs": []
    },
    {
      "cell_type": "code",
      "source": [],
      "metadata": {
        "id": "eQ-IVbOd451E"
      },
      "execution_count": null,
      "outputs": []
    },
    {
      "cell_type": "code",
      "source": [],
      "metadata": {
        "id": "V7cpHt8q454I"
      },
      "execution_count": null,
      "outputs": []
    },
    {
      "cell_type": "code",
      "source": [],
      "metadata": {
        "id": "ZpdxOH7w457M"
      },
      "execution_count": null,
      "outputs": []
    },
    {
      "cell_type": "code",
      "source": [],
      "metadata": {
        "id": "NVKH5C4y4596"
      },
      "execution_count": null,
      "outputs": []
    }
  ]
}