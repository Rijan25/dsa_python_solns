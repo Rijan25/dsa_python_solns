{
  "nbformat": 4,
  "nbformat_minor": 0,
  "metadata": {
    "colab": {
      "provenance": []
    },
    "kernelspec": {
      "name": "python3",
      "display_name": "Python 3"
    },
    "language_info": {
      "name": "python"
    }
  },
  "cells": [
    {
      "cell_type": "markdown",
      "source": [
        "# Day 1 of DSA Practise\n",
        "# Today Brush up my knowlede in python loops solving patterns questions\n",
        "# April 28th 2024"
      ],
      "metadata": {
        "id": "dKuvp9Pq_nB1"
      }
    },
    {
      "cell_type": "markdown",
      "source": [
        "#Pattern Practise Questions"
      ],
      "metadata": {
        "id": "5raaxl4F_kZ4"
      }
    },
    {
      "cell_type": "markdown",
      "source": [
        "# Question no 1"
      ],
      "metadata": {
        "id": "ce3JRCEE_c7M"
      }
    },
    {
      "cell_type": "code",
      "source": [
        "def pattern1(n):\n",
        "  for i in range(n):\n",
        "    for j in range(n):\n",
        "         print('* ',end='')\n",
        "    print('')\n",
        "\n",
        "\n"
      ],
      "metadata": {
        "id": "BQe3L-jd-RYO"
      },
      "execution_count": 19,
      "outputs": []
    },
    {
      "cell_type": "code",
      "source": [
        "pattern1(7)"
      ],
      "metadata": {
        "id": "1cO4I9Td-Ra6",
        "colab": {
          "base_uri": "https://localhost:8080/"
        },
        "outputId": "9c5332ac-b38e-478c-b418-041777a6e792"
      },
      "execution_count": 20,
      "outputs": [
        {
          "output_type": "stream",
          "name": "stdout",
          "text": [
            "* * * * * * * \n",
            "* * * * * * * \n",
            "* * * * * * * \n",
            "* * * * * * * \n",
            "* * * * * * * \n",
            "* * * * * * * \n",
            "* * * * * * * \n"
          ]
        }
      ]
    },
    {
      "cell_type": "code",
      "source": [
        "#Question no 2"
      ],
      "metadata": {
        "id": "6v5vQ8yx-Rdr"
      },
      "execution_count": 11,
      "outputs": []
    },
    {
      "cell_type": "code",
      "source": [
        "def pattern2(n):\n",
        "  for i in range(n):\n",
        "    for j in range(i+1):\n",
        "      print('* ',end='')\n",
        "    print(' ')"
      ],
      "metadata": {
        "id": "YA0YtUXY-RgU"
      },
      "execution_count": 37,
      "outputs": []
    },
    {
      "cell_type": "code",
      "source": [
        "pattern2(5)"
      ],
      "metadata": {
        "id": "m29uyGfk-Ri5",
        "colab": {
          "base_uri": "https://localhost:8080/"
        },
        "outputId": "cff46661-0396-4f9a-e545-75002ef9d911"
      },
      "execution_count": 38,
      "outputs": [
        {
          "output_type": "stream",
          "name": "stdout",
          "text": [
            "*  \n",
            "* *  \n",
            "* * *  \n",
            "* * * *  \n",
            "* * * * *  \n"
          ]
        }
      ]
    },
    {
      "cell_type": "code",
      "source": [
        "#Question 3"
      ],
      "metadata": {
        "id": "OVTxe0fU-Rli"
      },
      "execution_count": 39,
      "outputs": []
    },
    {
      "cell_type": "code",
      "source": [
        "def pattern3(n):\n",
        "  for i in range(n):\n",
        "    for j in range(i+1):\n",
        "      print(j+1,end='')\n",
        "    print(' ')\n"
      ],
      "metadata": {
        "id": "hDmyG4t8-RoL"
      },
      "execution_count": 42,
      "outputs": []
    },
    {
      "cell_type": "code",
      "source": [
        "pattern3(7)"
      ],
      "metadata": {
        "id": "c1KDY2oZ-Rqq",
        "colab": {
          "base_uri": "https://localhost:8080/"
        },
        "outputId": "85c61797-00c2-4d7c-b240-04c859ac0011"
      },
      "execution_count": 43,
      "outputs": [
        {
          "output_type": "stream",
          "name": "stdout",
          "text": [
            "1 \n",
            "12 \n",
            "123 \n",
            "1234 \n",
            "12345 \n",
            "123456 \n",
            "1234567 \n"
          ]
        }
      ]
    },
    {
      "cell_type": "code",
      "source": [
        "#Question4"
      ],
      "metadata": {
        "id": "rcBXPQdR-RtU"
      },
      "execution_count": null,
      "outputs": []
    },
    {
      "cell_type": "code",
      "source": [
        "def pattern4(n):\n",
        "  for i in range(n):\n",
        "    for j in range(i+1):\n",
        "      print(i+1,end='')\n",
        "    print('')"
      ],
      "metadata": {
        "id": "ErBO1AJZ-Rv9"
      },
      "execution_count": 44,
      "outputs": []
    },
    {
      "cell_type": "code",
      "source": [
        "pattern4(7)"
      ],
      "metadata": {
        "id": "dqmw_roW-Ryk",
        "colab": {
          "base_uri": "https://localhost:8080/"
        },
        "outputId": "db5ccccc-b7d2-4a4c-9c34-424edb0ccc63"
      },
      "execution_count": 46,
      "outputs": [
        {
          "output_type": "stream",
          "name": "stdout",
          "text": [
            "1\n",
            "22\n",
            "333\n",
            "4444\n",
            "55555\n",
            "666666\n",
            "7777777\n"
          ]
        }
      ]
    },
    {
      "cell_type": "code",
      "source": [
        "#Question5"
      ],
      "metadata": {
        "id": "P0f_4vq6-R1Z"
      },
      "execution_count": null,
      "outputs": []
    },
    {
      "cell_type": "code",
      "source": [
        "def pattern5(n):\n",
        "  for i in range(n,0,-1):\n",
        "    for j in range(i):\n",
        "      print('* ',end='')\n",
        "    print('')\n",
        "\n"
      ],
      "metadata": {
        "id": "DZk2XmDL-R4B"
      },
      "execution_count": 54,
      "outputs": []
    },
    {
      "cell_type": "code",
      "source": [
        "pattern5(7)"
      ],
      "metadata": {
        "id": "E5k2FwmV-R62",
        "colab": {
          "base_uri": "https://localhost:8080/"
        },
        "outputId": "a5210e1e-9810-4420-e36c-d39b896d37d4"
      },
      "execution_count": 57,
      "outputs": [
        {
          "output_type": "stream",
          "name": "stdout",
          "text": [
            "* * * * * * * \n",
            "* * * * * * \n",
            "* * * * * \n",
            "* * * * \n",
            "* * * \n",
            "* * \n",
            "* \n"
          ]
        }
      ]
    },
    {
      "cell_type": "code",
      "source": [
        "# Question6"
      ],
      "metadata": {
        "id": "niGzkn6M-R9d"
      },
      "execution_count": null,
      "outputs": []
    },
    {
      "cell_type": "code",
      "source": [
        "def pattern6(n):\n",
        "  for i in range(n,0,-1):\n",
        "    for j in range(i):\n",
        "      print(j+1,end='')\n",
        "    print('')"
      ],
      "metadata": {
        "id": "NnClk6oL-SAF"
      },
      "execution_count": 62,
      "outputs": []
    },
    {
      "cell_type": "code",
      "source": [
        "pattern6(7)"
      ],
      "metadata": {
        "id": "oHxlA3dd-SC-",
        "colab": {
          "base_uri": "https://localhost:8080/"
        },
        "outputId": "7964ae99-d8b9-46e2-fef5-c483f079b163"
      },
      "execution_count": 63,
      "outputs": [
        {
          "output_type": "stream",
          "name": "stdout",
          "text": [
            "1234567\n",
            "123456\n",
            "12345\n",
            "1234\n",
            "123\n",
            "12\n",
            "1\n"
          ]
        }
      ]
    },
    {
      "cell_type": "code",
      "source": [
        "# Question7"
      ],
      "metadata": {
        "id": "qO3FB_mB-SFz"
      },
      "execution_count": null,
      "outputs": []
    },
    {
      "cell_type": "code",
      "source": [
        "def pattern7(n):\n",
        "  for i in range(n):\n",
        "\n",
        "    #Space loop\n",
        "\n",
        "    for j in range(0,n-i-1):\n",
        "      print(' ',end='')\n",
        "\n",
        "\n",
        "    # Astrict loop\n",
        "\n",
        "    for j in range(0,2*i+1):\n",
        "      print('*',end ='')\n",
        "\n",
        "\n",
        "        #Space loop\n",
        "\n",
        "    # for j in range(0,n-i-1):\n",
        "    #   print(' ',end='')\n",
        "\n",
        "    print('')\n",
        "\n",
        "\n",
        "\n",
        "\n",
        "\n"
      ],
      "metadata": {
        "id": "9OUZzJq8-SIY"
      },
      "execution_count": 89,
      "outputs": []
    },
    {
      "cell_type": "code",
      "source": [
        "pattern7(7)"
      ],
      "metadata": {
        "id": "YeJ4iCDn-SLA",
        "colab": {
          "base_uri": "https://localhost:8080/"
        },
        "outputId": "773899cc-cd75-47d8-d123-e7683a0373b0"
      },
      "execution_count": 90,
      "outputs": [
        {
          "output_type": "stream",
          "name": "stdout",
          "text": [
            "      *\n",
            "     ***\n",
            "    *****\n",
            "   *******\n",
            "  *********\n",
            " ***********\n",
            "*************\n"
          ]
        }
      ]
    },
    {
      "cell_type": "code",
      "source": [
        "# Question8"
      ],
      "metadata": {
        "id": "su6CG2TV-SN7"
      },
      "execution_count": null,
      "outputs": []
    },
    {
      "cell_type": "code",
      "source": [
        "def pattern8(n):\n",
        "  for i in range(n):\n",
        "\n",
        "    # Space Pattern\n",
        "    for j in range(i):\n",
        "      print(' ',end='')\n",
        "\n",
        "    # Astrict pattern\n",
        "\n",
        "    for j in range(2*(n-1)-2*i+1):\n",
        "      print('*',end='')\n",
        "\n",
        "    print('')\n",
        "\n"
      ],
      "metadata": {
        "id": "rejnxs7C-SQk"
      },
      "execution_count": 100,
      "outputs": []
    },
    {
      "cell_type": "code",
      "source": [
        "pattern8(8)"
      ],
      "metadata": {
        "id": "s30S1wIi-STp",
        "colab": {
          "base_uri": "https://localhost:8080/"
        },
        "outputId": "d4a23dd7-135c-4b5f-a9b0-4f7aac438af9"
      },
      "execution_count": 102,
      "outputs": [
        {
          "output_type": "stream",
          "name": "stdout",
          "text": [
            "***************\n",
            " *************\n",
            "  ***********\n",
            "   *********\n",
            "    *******\n",
            "     *****\n",
            "      ***\n",
            "       *\n"
          ]
        }
      ]
    },
    {
      "cell_type": "code",
      "source": [
        "# Question9"
      ],
      "metadata": {
        "id": "uiPwmyiU-SXN"
      },
      "execution_count": null,
      "outputs": []
    },
    {
      "cell_type": "code",
      "source": [
        "def pattern9(n):\n",
        "\n",
        "  #For upper triangle\n",
        "\n",
        "  for i in range(n):\n",
        "\n",
        "    #Space\n",
        "\n",
        "    for j in range(n-i-1):\n",
        "      print(' ',end='')\n",
        "\n",
        "    #Astrict\n",
        "\n",
        "    for j in range(2*i+1):\n",
        "      print('*',end='')\n",
        "\n",
        "    print(' ')\n",
        "  # For lower Triangle\n",
        "\n",
        "  for i in range(n):\n",
        "\n",
        "    #Space\n",
        "\n",
        "    for j in range(i):\n",
        "      print(' ',end='')\n",
        "\n",
        "   # Astrict\n",
        "\n",
        "\n",
        "    for j in range(2*(n-1-i)+1):\n",
        "      print('*',end='')\n",
        "\n",
        "\n",
        "    print(' ')\n",
        "\n",
        "\n",
        "\n",
        "\n"
      ],
      "metadata": {
        "id": "BdVTXdNFaD_v"
      },
      "execution_count": 109,
      "outputs": []
    },
    {
      "cell_type": "code",
      "source": [
        "pattern9(9)"
      ],
      "metadata": {
        "colab": {
          "base_uri": "https://localhost:8080/"
        },
        "id": "17rT2eQnaECo",
        "outputId": "8906cd16-8261-4d3a-abe7-1cf3db091613"
      },
      "execution_count": 113,
      "outputs": [
        {
          "output_type": "stream",
          "name": "stdout",
          "text": [
            "        * \n",
            "       *** \n",
            "      ***** \n",
            "     ******* \n",
            "    ********* \n",
            "   *********** \n",
            "  ************* \n",
            " *************** \n",
            "***************** \n",
            "***************** \n",
            " *************** \n",
            "  ************* \n",
            "   *********** \n",
            "    ********* \n",
            "     ******* \n",
            "      ***** \n",
            "       *** \n",
            "        * \n"
          ]
        }
      ]
    },
    {
      "cell_type": "code",
      "source": [
        "# Question10"
      ],
      "metadata": {
        "id": "tQcEDBJvaEFf"
      },
      "execution_count": null,
      "outputs": []
    },
    {
      "cell_type": "code",
      "source": [
        "def pattern10(n):\n",
        "\n",
        "  # For upper pattern\n",
        "\n",
        "  for i in range(n):\n",
        "    for j in range(i+1):\n",
        "      print('*',end='')\n",
        "    print('')\n",
        "  # For lower pattern\n",
        "\n",
        "  for i in range(n-1):\n",
        "    for j in range(n-i-1):\n",
        "       print('*',end='')\n",
        "\n",
        "    print('')\n",
        "\n",
        "\n",
        "\n",
        "\n"
      ],
      "metadata": {
        "id": "hWhZ6ej5aEH4"
      },
      "execution_count": 120,
      "outputs": []
    },
    {
      "cell_type": "code",
      "source": [
        "pattern10(7)"
      ],
      "metadata": {
        "colab": {
          "base_uri": "https://localhost:8080/"
        },
        "id": "jgwg801_aEKr",
        "outputId": "b9e6dea5-5521-4d32-bbce-37560afb99d7"
      },
      "execution_count": 122,
      "outputs": [
        {
          "output_type": "stream",
          "name": "stdout",
          "text": [
            "*\n",
            "**\n",
            "***\n",
            "****\n",
            "*****\n",
            "******\n",
            "*******\n",
            "******\n",
            "*****\n",
            "****\n",
            "***\n",
            "**\n",
            "*\n"
          ]
        }
      ]
    },
    {
      "cell_type": "code",
      "source": [
        "# Question11"
      ],
      "metadata": {
        "id": "fGRbqDTfaENV"
      },
      "execution_count": 123,
      "outputs": []
    },
    {
      "cell_type": "code",
      "source": [
        "def pattern11(n):\n",
        "  for i in range(n):\n",
        "\n",
        "    if(i%2==0):\n",
        "      num=1\n",
        "    else:\n",
        "      num=0\n",
        "\n",
        "    for j in range(i+1):\n",
        "      print(num,end=' ')\n",
        "      num=1-num\n",
        "    print('')\n"
      ],
      "metadata": {
        "id": "UZYdJBiTaEQH"
      },
      "execution_count": 131,
      "outputs": []
    },
    {
      "cell_type": "code",
      "source": [
        "pattern11(7)"
      ],
      "metadata": {
        "colab": {
          "base_uri": "https://localhost:8080/"
        },
        "id": "y_7WHgmPaETD",
        "outputId": "d178fc82-3e2a-4fb5-ca16-321b2e737994"
      },
      "execution_count": 132,
      "outputs": [
        {
          "output_type": "stream",
          "name": "stdout",
          "text": [
            "1 \n",
            "0 1 \n",
            "1 0 1 \n",
            "0 1 0 1 \n",
            "1 0 1 0 1 \n",
            "0 1 0 1 0 1 \n",
            "1 0 1 0 1 0 1 \n"
          ]
        }
      ]
    },
    {
      "cell_type": "code",
      "source": [
        "# Question 12\n",
        "\n",
        "#This was a tricky one gotta revise it agian"
      ],
      "metadata": {
        "id": "pLNeBfjaaEVy"
      },
      "execution_count": 133,
      "outputs": []
    },
    {
      "cell_type": "code",
      "source": [
        "\n",
        "def pattern12(n):\n",
        "  space=2*(n-1)\n",
        "  for i in range(n):\n",
        "    for j in range(i+1):\n",
        "      print(j+1,end='')\n",
        "\n",
        "    for j in range(space):\n",
        "      print(' ',end='')\n",
        "\n",
        "    for j in range(i+1,0,-1):\n",
        "      print(j,end='')\n",
        "\n",
        "    print('')\n",
        "    space-=2\n",
        "\n",
        "\n",
        "\n",
        "\n",
        ""
      ],
      "metadata": {
        "id": "WRhb_7PnaEYm"
      },
      "execution_count": 169,
      "outputs": []
    },
    {
      "cell_type": "code",
      "source": [
        "pattern12(5)"
      ],
      "metadata": {
        "colab": {
          "base_uri": "https://localhost:8080/"
        },
        "id": "BCtxVbdUaEbL",
        "outputId": "1854ca50-a807-4f47-d472-a04798ea8cf9"
      },
      "execution_count": 170,
      "outputs": [
        {
          "output_type": "stream",
          "name": "stdout",
          "text": [
            "1        1\n",
            "12      21\n",
            "123    321\n",
            "1234  4321\n",
            "1234554321\n"
          ]
        }
      ]
    },
    {
      "cell_type": "code",
      "source": [
        "# Question 13"
      ],
      "metadata": {
        "id": "SWqSYUz6aEd8"
      },
      "execution_count": null,
      "outputs": []
    },
    {
      "cell_type": "code",
      "source": [
        "def pattern13(n):\n",
        "  num=0\n",
        "  for i in range(5):\n",
        "    for j in range(i+1):\n",
        "      num+=1\n",
        "      print(num,end=' ')\n",
        "\n",
        "    print('')"
      ],
      "metadata": {
        "id": "zlIvPrfNaEgq"
      },
      "execution_count": 171,
      "outputs": []
    },
    {
      "cell_type": "code",
      "source": [
        "pattern13(5)"
      ],
      "metadata": {
        "colab": {
          "base_uri": "https://localhost:8080/"
        },
        "id": "Y2oBL14GaEjR",
        "outputId": "65492816-e8c5-4add-f904-28707cbd2a87"
      },
      "execution_count": 172,
      "outputs": [
        {
          "output_type": "stream",
          "name": "stdout",
          "text": [
            "1 \n",
            "2 3 \n",
            "4 5 6 \n",
            "7 8 9 10 \n",
            "11 12 13 14 15 \n"
          ]
        }
      ]
    },
    {
      "cell_type": "code",
      "source": [
        "# Question 14"
      ],
      "metadata": {
        "id": "xBwq7hu-aEmC"
      },
      "execution_count": null,
      "outputs": []
    },
    {
      "cell_type": "code",
      "source": [
        "def pattern14(n):\n",
        "\n",
        "  for i in range(n):\n",
        "    alpha=65\n",
        "    for j in range(i+1):\n",
        "      print(chr(alpha),end=' ')\n",
        "      alpha+=1\n",
        "\n",
        "    print('')"
      ],
      "metadata": {
        "id": "Bl1oqh8FaEou"
      },
      "execution_count": 176,
      "outputs": []
    },
    {
      "cell_type": "code",
      "source": [
        "pattern14(5)"
      ],
      "metadata": {
        "colab": {
          "base_uri": "https://localhost:8080/"
        },
        "id": "7Ov-M20QaErh",
        "outputId": "76ae835b-f709-461a-cee7-bd4da36bba10"
      },
      "execution_count": 177,
      "outputs": [
        {
          "output_type": "stream",
          "name": "stdout",
          "text": [
            "A \n",
            "A B \n",
            "A B C \n",
            "A B C D \n",
            "A B C D E \n"
          ]
        }
      ]
    },
    {
      "cell_type": "code",
      "source": [
        "# Question 15"
      ],
      "metadata": {
        "id": "MWUDLufPaEuL"
      },
      "execution_count": null,
      "outputs": []
    },
    {
      "cell_type": "code",
      "source": [
        "def pattern15(n):\n",
        "  for i in range(n):\n",
        "    alpha=65\n",
        "    for j in range(n-i):\n",
        "      print(chr(alpha),end=' ')\n",
        "      alpha+=1\n",
        "\n",
        "    print('')\n",
        ""
      ],
      "metadata": {
        "id": "Hwuo68ovaExB"
      },
      "execution_count": 183,
      "outputs": []
    },
    {
      "cell_type": "code",
      "source": [
        "pattern15(5)"
      ],
      "metadata": {
        "colab": {
          "base_uri": "https://localhost:8080/"
        },
        "id": "CdQ1e4cZaEzn",
        "outputId": "3c6f83c0-8a52-41dc-bae0-b59ea8ee514b"
      },
      "execution_count": 184,
      "outputs": [
        {
          "output_type": "stream",
          "name": "stdout",
          "text": [
            "A B C D E \n",
            "A B C D \n",
            "A B C \n",
            "A B \n",
            "A \n"
          ]
        }
      ]
    },
    {
      "cell_type": "code",
      "source": [
        "# Question16"
      ],
      "metadata": {
        "id": "DML6EJccaE2N"
      },
      "execution_count": null,
      "outputs": []
    },
    {
      "cell_type": "code",
      "source": [
        "def pattern16(n):\n",
        "  for i in range(n):\n",
        "    alpha=65+i\n",
        "    for j in range(i+1):\n",
        "      print(chr(alpha),end=' ')\n",
        "    print('')"
      ],
      "metadata": {
        "id": "AUtiT_vOaE41"
      },
      "execution_count": 189,
      "outputs": []
    },
    {
      "cell_type": "code",
      "source": [
        "pattern16(5)"
      ],
      "metadata": {
        "colab": {
          "base_uri": "https://localhost:8080/"
        },
        "id": "MeGNhX9EaE7k",
        "outputId": "730c4548-b247-46a6-ea68-08c6731fc137"
      },
      "execution_count": 190,
      "outputs": [
        {
          "output_type": "stream",
          "name": "stdout",
          "text": [
            "A \n",
            "B B \n",
            "C C C \n",
            "D D D D \n",
            "E E E E E \n"
          ]
        }
      ]
    },
    {
      "cell_type": "code",
      "source": [
        "# Question17"
      ],
      "metadata": {
        "id": "viVNx3myaE-V"
      },
      "execution_count": null,
      "outputs": []
    },
    {
      "cell_type": "code",
      "source": [
        "def pattern17(n):\n",
        "  for i in range(n):\n",
        "\n",
        "    # for printing the space\n",
        "\n",
        "    for j in range(n-1-i):\n",
        "      print(' ',end=' ')\n",
        "\n",
        "    # for printing the alphabet\n",
        "    alpha=65\n",
        "    for j in range(2*i+1):\n",
        "      print(chr(alpha),end=' ')\n",
        "      if(j<i):\n",
        "        alpha+=1\n",
        "      else:\n",
        "         alpha-=1\n",
        "\n",
        "\n",
        "\n",
        "    print('')\n",
        ""
      ],
      "metadata": {
        "id": "Q4aeEm-MaFBf"
      },
      "execution_count": 239,
      "outputs": []
    },
    {
      "cell_type": "code",
      "source": [
        "pattern17(5)"
      ],
      "metadata": {
        "colab": {
          "base_uri": "https://localhost:8080/"
        },
        "id": "rV2Z_MOYaFEP",
        "outputId": "cc0877eb-972e-4aa4-aa86-c95671166022"
      },
      "execution_count": 240,
      "outputs": [
        {
          "output_type": "stream",
          "name": "stdout",
          "text": [
            "        A \n",
            "      A B A \n",
            "    A B C B A \n",
            "  A B C D C B A \n",
            "A B C D E D C B A \n"
          ]
        }
      ]
    },
    {
      "cell_type": "code",
      "source": [
        "# Question18"
      ],
      "metadata": {
        "id": "KMO5E4GI-18b"
      },
      "execution_count": null,
      "outputs": []
    },
    {
      "cell_type": "code",
      "source": [
        "def pattern18(n):\n",
        "\n",
        "  for i in range(n):\n",
        "    alpha=65+n-1-i\n",
        "    for j in range(i+1):\n",
        "\n",
        "      print(chr(alpha),end=' ')\n",
        "      alpha=alpha+1\n",
        "\n",
        "\n",
        "    print('')"
      ],
      "metadata": {
        "id": "tWMjr_HOxxKU"
      },
      "execution_count": 304,
      "outputs": []
    },
    {
      "cell_type": "code",
      "source": [
        "pattern18(5)"
      ],
      "metadata": {
        "colab": {
          "base_uri": "https://localhost:8080/"
        },
        "id": "ffsKUDHTxxND",
        "outputId": "8e2dd7d7-7977-4db8-a1f2-34a07ca1e90f"
      },
      "execution_count": 305,
      "outputs": [
        {
          "output_type": "stream",
          "name": "stdout",
          "text": [
            "E \n",
            "D E \n",
            "C D E \n",
            "B C D E \n",
            "A B C D E \n"
          ]
        }
      ]
    },
    {
      "cell_type": "code",
      "source": [
        "# Question19"
      ],
      "metadata": {
        "id": "KEle3zP-xxPV"
      },
      "execution_count": 306,
      "outputs": []
    },
    {
      "cell_type": "code",
      "source": [
        "def pattern19(n):\n",
        "  for i in range(n):\n",
        "    for j in range(n-i):\n",
        "      print('*',end='')\n",
        "    for j in range(2*i):\n",
        "      print(' ',end='')\n",
        "    for j in range(n-i):\n",
        "      print('*',end='')\n",
        "    print('')\n",
        "\n",
        "  for i in range(n):\n",
        "    for j in range(i+1):\n",
        "      print('*',end='')\n",
        "    for j in range(2*(n-1-i)):\n",
        "      print(' ',end='')\n",
        "    for j in range(i+1):\n",
        "      print('*',end='')\n",
        "\n",
        "    print('')"
      ],
      "metadata": {
        "id": "szVFPDqVxxSD"
      },
      "execution_count": 321,
      "outputs": []
    },
    {
      "cell_type": "code",
      "source": [
        "pattern19(7)"
      ],
      "metadata": {
        "colab": {
          "base_uri": "https://localhost:8080/"
        },
        "id": "A4hu77mIxxUi",
        "outputId": "53f833f9-0587-4b2d-e367-48b820dca94c"
      },
      "execution_count": 325,
      "outputs": [
        {
          "output_type": "stream",
          "name": "stdout",
          "text": [
            "**************\n",
            "******  ******\n",
            "*****    *****\n",
            "****      ****\n",
            "***        ***\n",
            "**          **\n",
            "*            *\n",
            "*            *\n",
            "**          **\n",
            "***        ***\n",
            "****      ****\n",
            "*****    *****\n",
            "******  ******\n",
            "**************\n"
          ]
        }
      ]
    },
    {
      "cell_type": "code",
      "source": [
        "# Question20"
      ],
      "metadata": {
        "id": "Ql6a-81sxxW_"
      },
      "execution_count": 311,
      "outputs": []
    },
    {
      "cell_type": "code",
      "source": [
        "def pattern20(n):\n",
        "  for i in range(n):\n",
        "    for j in range(i+1):\n",
        "      print('*',end='')\n",
        "    for j in range(2*(n-1-i)):\n",
        "      print(' ',end='')\n",
        "    for j in range(i+1):\n",
        "      print('*',end='')\n",
        "    print('')\n",
        "\n",
        "  for i in range(n-1):\n",
        "    for j in range(n-1-i):\n",
        "      print('*',end='')\n",
        "    for j in range(2*(i+1)):\n",
        "      print(' ',end='')\n",
        "    for j in range(n-1-i):\n",
        "      print('*',end='')\n",
        "    print('')"
      ],
      "metadata": {
        "id": "RGD4IOiBxxZu"
      },
      "execution_count": 337,
      "outputs": []
    },
    {
      "cell_type": "code",
      "source": [
        "pattern20(7)"
      ],
      "metadata": {
        "colab": {
          "base_uri": "https://localhost:8080/"
        },
        "id": "pgqrywZrxxci",
        "outputId": "6f04cb79-a547-4e6d-c657-8be85427761f"
      },
      "execution_count": 341,
      "outputs": [
        {
          "output_type": "stream",
          "name": "stdout",
          "text": [
            "*            *\n",
            "**          **\n",
            "***        ***\n",
            "****      ****\n",
            "*****    *****\n",
            "******  ******\n",
            "**************\n",
            "******  ******\n",
            "*****    *****\n",
            "****      ****\n",
            "***        ***\n",
            "**          **\n",
            "*            *\n"
          ]
        }
      ]
    },
    {
      "cell_type": "code",
      "source": [
        "# Question21"
      ],
      "metadata": {
        "id": "B5l19S1-xxfi"
      },
      "execution_count": null,
      "outputs": []
    },
    {
      "cell_type": "code",
      "source": [
        "def pattern21(n):\n",
        "  for i in range(n):\n",
        "    for j in range(n):\n",
        "      if(i==0 or i==n-1 or j==0 or j==n-1):\n",
        "        print('*',end='')\n",
        "      else:\n",
        "        print(' ',end='')\n",
        "\n",
        "    print('  ')\n"
      ],
      "metadata": {
        "id": "UJg86AC2xxhw"
      },
      "execution_count": 359,
      "outputs": []
    },
    {
      "cell_type": "code",
      "source": [
        "pattern21(11)"
      ],
      "metadata": {
        "colab": {
          "base_uri": "https://localhost:8080/"
        },
        "id": "bMxr9Tlfxxkm",
        "outputId": "703b40e9-0f34-44fe-c198-6b3afd40ad0f"
      },
      "execution_count": 361,
      "outputs": [
        {
          "output_type": "stream",
          "name": "stdout",
          "text": [
            "***********  \n",
            "*         *  \n",
            "*         *  \n",
            "*         *  \n",
            "*         *  \n",
            "*         *  \n",
            "*         *  \n",
            "*         *  \n",
            "*         *  \n",
            "*         *  \n",
            "***********  \n"
          ]
        }
      ]
    },
    {
      "cell_type": "code",
      "source": [],
      "metadata": {
        "id": "GE-STCF5xxm9"
      },
      "execution_count": null,
      "outputs": []
    },
    {
      "cell_type": "code",
      "source": [
        "\n"
      ],
      "metadata": {
        "id": "1LX6BqZ2xxp-"
      },
      "execution_count": null,
      "outputs": []
    },
    {
      "cell_type": "code",
      "source": [],
      "metadata": {
        "id": "aP81MYRZxxsR"
      },
      "execution_count": null,
      "outputs": []
    },
    {
      "cell_type": "code",
      "source": [],
      "metadata": {
        "id": "0_t-sOF-xxu_"
      },
      "execution_count": null,
      "outputs": []
    },
    {
      "cell_type": "code",
      "source": [],
      "metadata": {
        "id": "T_XTE1EOxxxw"
      },
      "execution_count": null,
      "outputs": []
    },
    {
      "cell_type": "code",
      "source": [],
      "metadata": {
        "id": "M3HE_XDYxx0t"
      },
      "execution_count": null,
      "outputs": []
    },
    {
      "cell_type": "code",
      "source": [],
      "metadata": {
        "id": "mPI0tDH5xx32"
      },
      "execution_count": null,
      "outputs": []
    },
    {
      "cell_type": "code",
      "source": [],
      "metadata": {
        "id": "O9s4RZ6fxx6J"
      },
      "execution_count": null,
      "outputs": []
    },
    {
      "cell_type": "code",
      "source": [],
      "metadata": {
        "id": "p9zzbVfnxx8i"
      },
      "execution_count": null,
      "outputs": []
    },
    {
      "cell_type": "code",
      "source": [],
      "metadata": {
        "id": "4y6EK0k6xx-1"
      },
      "execution_count": null,
      "outputs": []
    },
    {
      "cell_type": "code",
      "source": [],
      "metadata": {
        "id": "X_mZREYRxyBY"
      },
      "execution_count": null,
      "outputs": []
    },
    {
      "cell_type": "code",
      "source": [],
      "metadata": {
        "id": "15nfh6QCxyEj"
      },
      "execution_count": null,
      "outputs": []
    },
    {
      "cell_type": "code",
      "source": [],
      "metadata": {
        "id": "gZVX4_NpxyHo"
      },
      "execution_count": null,
      "outputs": []
    },
    {
      "cell_type": "markdown",
      "source": [
        "# New Section"
      ],
      "metadata": {
        "id": "0OuwfSJz-K6Y"
      }
    }
  ]
}